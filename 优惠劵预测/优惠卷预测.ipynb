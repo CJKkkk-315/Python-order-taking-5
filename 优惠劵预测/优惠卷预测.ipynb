{
 "cells": [
  {
   "cell_type": "code",
   "execution_count": 1,
   "id": "65276173-e3d1-427d-be01-5a9e0a396056",
   "metadata": {},
   "outputs": [],
   "source": [
    "import pandas as pd\n",
    "import numpy as np\n",
    "import warnings\n",
    "warnings.filterwarnings('ignore')"
   ]
  },
  {
   "cell_type": "code",
   "execution_count": 2,
   "id": "46bd0e03-fa7f-4645-a541-8cbb96bc48a4",
   "metadata": {},
   "outputs": [],
   "source": [
    "df = pd.read_csv('D:\\Python_about\\PYTHON接单4\\优惠卷预测\\ccf_offline_stage1_train.csv')"
   ]
  },
  {
   "cell_type": "code",
   "execution_count": 3,
   "id": "7248fe62-2d75-4d71-9228-85b48b764595",
   "metadata": {},
   "outputs": [],
   "source": [
    "def process_data(df, label_name):\n",
    "    df = df[~df['Coupon_id'].isnull()]\n",
    "    df['Distance'] = df['Distance'].fillna(0)\n",
    "    df['Label'] = df[label_name].apply(lambda x: 0 if pd.isna(x) or x == '' else 1)\n",
    "    df[['x', 'y']] = df['Discount_rate'].str.split(':', expand=True)\n",
    "    df['y'] = df['Distance'].fillna(0)\n",
    "    df = df[['Distance','x','y','Label']]\n",
    "    return df"
   ]
  },
  {
   "cell_type": "code",
   "execution_count": 4,
   "id": "c4812df2-5ee4-4762-84a4-bb551edc15f9",
   "metadata": {},
   "outputs": [],
   "source": [
    "df = process_data(df, 'Date')"
   ]
  },
  {
   "cell_type": "code",
   "execution_count": 5,
   "id": "d942e48d-79e3-4ccb-a978-d1ee446bf1ff",
   "metadata": {},
   "outputs": [
    {
     "data": {
      "text/html": [
       "<div>\n",
       "<style scoped>\n",
       "    .dataframe tbody tr th:only-of-type {\n",
       "        vertical-align: middle;\n",
       "    }\n",
       "\n",
       "    .dataframe tbody tr th {\n",
       "        vertical-align: top;\n",
       "    }\n",
       "\n",
       "    .dataframe thead th {\n",
       "        text-align: right;\n",
       "    }\n",
       "</style>\n",
       "<table border=\"1\" class=\"dataframe\">\n",
       "  <thead>\n",
       "    <tr style=\"text-align: right;\">\n",
       "      <th></th>\n",
       "      <th>Distance</th>\n",
       "      <th>x</th>\n",
       "      <th>y</th>\n",
       "      <th>Label</th>\n",
       "    </tr>\n",
       "  </thead>\n",
       "  <tbody>\n",
       "    <tr>\n",
       "      <th>1</th>\n",
       "      <td>1.0</td>\n",
       "      <td>150</td>\n",
       "      <td>1.0</td>\n",
       "      <td>0</td>\n",
       "    </tr>\n",
       "    <tr>\n",
       "      <th>2</th>\n",
       "      <td>0.0</td>\n",
       "      <td>20</td>\n",
       "      <td>0.0</td>\n",
       "      <td>0</td>\n",
       "    </tr>\n",
       "    <tr>\n",
       "      <th>3</th>\n",
       "      <td>0.0</td>\n",
       "      <td>20</td>\n",
       "      <td>0.0</td>\n",
       "      <td>0</td>\n",
       "    </tr>\n",
       "    <tr>\n",
       "      <th>4</th>\n",
       "      <td>0.0</td>\n",
       "      <td>20</td>\n",
       "      <td>0.0</td>\n",
       "      <td>0</td>\n",
       "    </tr>\n",
       "    <tr>\n",
       "      <th>6</th>\n",
       "      <td>0.0</td>\n",
       "      <td>20</td>\n",
       "      <td>0.0</td>\n",
       "      <td>1</td>\n",
       "    </tr>\n",
       "    <tr>\n",
       "      <th>...</th>\n",
       "      <td>...</td>\n",
       "      <td>...</td>\n",
       "      <td>...</td>\n",
       "      <td>...</td>\n",
       "    </tr>\n",
       "    <tr>\n",
       "      <th>1754877</th>\n",
       "      <td>6.0</td>\n",
       "      <td>30</td>\n",
       "      <td>6.0</td>\n",
       "      <td>1</td>\n",
       "    </tr>\n",
       "    <tr>\n",
       "      <th>1754878</th>\n",
       "      <td>2.0</td>\n",
       "      <td>30</td>\n",
       "      <td>2.0</td>\n",
       "      <td>1</td>\n",
       "    </tr>\n",
       "    <tr>\n",
       "      <th>1754880</th>\n",
       "      <td>6.0</td>\n",
       "      <td>30</td>\n",
       "      <td>6.0</td>\n",
       "      <td>1</td>\n",
       "    </tr>\n",
       "    <tr>\n",
       "      <th>1754882</th>\n",
       "      <td>6.0</td>\n",
       "      <td>50</td>\n",
       "      <td>6.0</td>\n",
       "      <td>0</td>\n",
       "    </tr>\n",
       "    <tr>\n",
       "      <th>1754883</th>\n",
       "      <td>0.0</td>\n",
       "      <td>20</td>\n",
       "      <td>0.0</td>\n",
       "      <td>0</td>\n",
       "    </tr>\n",
       "  </tbody>\n",
       "</table>\n",
       "<p>1053282 rows × 4 columns</p>\n",
       "</div>"
      ],
      "text/plain": [
       "         Distance    x    y  Label\n",
       "1             1.0  150  1.0      0\n",
       "2             0.0   20  0.0      0\n",
       "3             0.0   20  0.0      0\n",
       "4             0.0   20  0.0      0\n",
       "6             0.0   20  0.0      1\n",
       "...           ...  ...  ...    ...\n",
       "1754877       6.0   30  6.0      1\n",
       "1754878       2.0   30  2.0      1\n",
       "1754880       6.0   30  6.0      1\n",
       "1754882       6.0   50  6.0      0\n",
       "1754883       0.0   20  0.0      0\n",
       "\n",
       "[1053282 rows x 4 columns]"
      ]
     },
     "execution_count": 5,
     "metadata": {},
     "output_type": "execute_result"
    }
   ],
   "source": [
    "df"
   ]
  },
  {
   "cell_type": "code",
   "execution_count": 6,
   "id": "f765b317-1425-46a5-9f60-4a4dbf6a780f",
   "metadata": {},
   "outputs": [
    {
     "name": "stdout",
     "output_type": "stream",
     "text": [
      "0    977900\n",
      "1     75382\n",
      "Name: Label, dtype: int64\n"
     ]
    }
   ],
   "source": [
    "# X_train = train.drop(['Label'],axis=1)\n",
    "# y_train = train['Label']\n",
    "# X_test = test.drop(['Label'],axis=1)\n",
    "# y_test = test['Label']\n",
    "from sklearn.model_selection import train_test_split\n",
    "\n",
    "X = df.iloc[:, :-1]\n",
    "y = df.iloc[:, -1]\n",
    "class_counts = y.value_counts()\n",
    "print(class_counts)\n",
    "# 分割数据集，80% 训练数据和 20% 测试数据\n",
    "X_train, X_test, y_train, y_test = train_test_split(X, y, test_size=0.2, random_state=42)"
   ]
  },
  {
   "cell_type": "code",
   "execution_count": 7,
   "id": "078a7690-c290-4a6d-996c-9916c3d6f72c",
   "metadata": {},
   "outputs": [
    {
     "name": "stdout",
     "output_type": "stream",
     "text": [
      "Decision Tree:\n",
      " Accuracy: 0.93, Recall: 0.00, AUC: 0.76\n",
      "\n",
      "Linear Regression:\n",
      " Accuracy: 0.93, Recall: 0.00, AUC: 0.75\n",
      "\n",
      "Random Forest:\n",
      " Accuracy: 0.93, Recall: 0.00, AUC: 0.76\n",
      "\n"
     ]
    }
   ],
   "source": [
    "from sklearn import svm, tree, linear_model, ensemble\n",
    "from sklearn.metrics import accuracy_score, recall_score, roc_auc_score\n",
    "\n",
    "# 初始化模型\n",
    "models = {\n",
    "    \"Decision Tree\": tree.DecisionTreeClassifier(),\n",
    "    \"Linear Regression\": linear_model.LogisticRegression(),  # 用逻辑回归代替线性回归进行分类\n",
    "    \"Random Forest\": ensemble.RandomForestClassifier()\n",
    "}\n",
    "\n",
    "# 训练并评估模型\n",
    "for name, model in models.items():\n",
    "    # 训练模型\n",
    "    model.fit(X_train, y_train)\n",
    "\n",
    "    # 进行预测\n",
    "    y_pred = model.predict(X_test)\n",
    "    y_proba = model.predict_proba(X_test)[:, 1]  # 获取为正类的概率，用于计算 AUC\n",
    "\n",
    "    # 计算评估指标\n",
    "    acc = accuracy_score(y_test, y_pred)\n",
    "    recall = recall_score(y_test, y_pred)\n",
    "    auc = roc_auc_score(y_test, y_proba)\n",
    "\n",
    "    print(f\"{name}:\\n Accuracy: {acc:.2f}, Recall: {recall:.2f}, AUC: {auc:.2f}\\n\")\n"
   ]
  },
  {
   "cell_type": "code",
   "execution_count": null,
   "id": "7086fa84-a3dc-43e1-82be-c060751a765c",
   "metadata": {},
   "outputs": [],
   "source": []
  },
  {
   "cell_type": "code",
   "execution_count": null,
   "id": "0368fff7-c37a-4530-bde0-984e87ec2727",
   "metadata": {},
   "outputs": [],
   "source": []
  }
 ],
 "metadata": {
  "kernelspec": {
   "display_name": "Python 3 (ipykernel)",
   "language": "python",
   "name": "python3"
  },
  "language_info": {
   "codemirror_mode": {
    "name": "ipython",
    "version": 3
   },
   "file_extension": ".py",
   "mimetype": "text/x-python",
   "name": "python",
   "nbconvert_exporter": "python",
   "pygments_lexer": "ipython3",
   "version": "3.8.8rc1"
  }
 },
 "nbformat": 4,
 "nbformat_minor": 5
}
